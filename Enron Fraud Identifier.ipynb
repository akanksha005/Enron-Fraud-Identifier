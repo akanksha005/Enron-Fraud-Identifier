{
 "cells": [
  {
   "cell_type": "markdown",
   "metadata": {
    "collapsed": true
   },
   "source": [
    "# Identify Fraud From Enron Email Dataset\n",
    "\n",
    "In 2000, Enron was one of the largest companies in the United States in energy trading and was named as 'America's most innovative company'. By 2002, it had collapsed into bankruptcy due to widespread corporate fraud. In the resulting Federal investigation, a significant amount of typically confidential information entered into the public record, including tens of thousands of emails and detailed financial data for top executives. In this project, i have applied my machine learning skills by building a person of interest identifier based on financial and email data made public as a result of the Enron scandal. To assist, we've combined this data with a hand-generated list of persons of interest in the fraud case, which means individuals who were indicted, reached a settlement or plea deal with the government, or testified in exchange for prosecution immunity.\n",
    "\n",
    "There are seven major steps in my project:\n",
    "1. Load the Dataset and Query the dataset.\n",
    "2. Outlier Detection and Removal\n",
    "3. Feature Pre-processing\n",
    "4. Classifier\n",
    "5. Comparison of different classifier\n",
    "6. Parameter Tuning\n",
    "7. Validation of Classifier"
   ]
  },
  {
   "cell_type": "markdown",
   "metadata": {},
   "source": [
    "## Load The Dataset\n"
   ]
  },
  {
   "cell_type": "code",
   "execution_count": 184,
   "metadata": {
    "collapsed": false
   },
   "outputs": [
    {
     "name": "stdout",
     "output_type": "stream",
     "text": [
      "There are 146 executives in Enron Dataset\n"
     ]
    }
   ],
   "source": [
    "\"\"\" \n",
    "    Starter code for exploring the Enron dataset (emails + finances);\n",
    "    loads up the dataset (pickled dict of dicts).\n",
    "\n",
    "    The dataset has the form:\n",
    "    enron_data[\"LASTNAME FIRSTNAME MIDDLEINITIAL\"] = { features_dict }\n",
    "\n",
    "    {features_dict} is a dictionary of features associated with that person.\n",
    "    and here's an example to get you started:\n",
    "\n",
    "    enron_data[\"SKILLING JEFFREY K\"][\"bonus\"] = 5600000\n",
    "    \n",
    "\"\"\"\n",
    "\n",
    "import pickle\n",
    "\n",
    "enron_data = pickle.load(open(\"../final_project/final_project_dataset.pkl\", \"r\"))\n",
    "print \"There are \"+str(len(enron_data))+\" executives in Enron Dataset\""
   ]
  },
  {
   "cell_type": "code",
   "execution_count": 183,
   "metadata": {
    "collapsed": false
   },
   "outputs": [
    {
     "name": "stdout",
     "output_type": "stream",
     "text": [
      "There are 18 Person of Interest(POI) and 128 Non-POIs  in our Dataset \n"
     ]
    }
   ],
   "source": [
    "count=0\n",
    "for i in enron_data:\n",
    "    if(enron_data[i][\"poi\"]==1):\n",
    "        count=count+1\n",
    "print \"There are \"+str(count)+\" Person of Interest(POI) and \"+str((len(enron_data))-(count))+\" Non-POIs  in our Dataset \""
   ]
  },
  {
   "cell_type": "code",
   "execution_count": 12,
   "metadata": {
    "collapsed": false
   },
   "outputs": [
    {
     "name": "stdout",
     "output_type": "stream",
     "text": [
      "There are 21 features available for each person\n"
     ]
    }
   ],
   "source": [
    "print \"There are \"+str(len(enron_data[\"SKILLING JEFFREY K\"]))+\" features available for each person\""
   ]
  },
  {
   "cell_type": "code",
   "execution_count": 17,
   "metadata": {
    "collapsed": false
   },
   "outputs": [
    {
     "name": "stdout",
     "output_type": "stream",
     "text": [
      "The 21 features are listed below:\n",
      "Feature 1:salary\n",
      "Feature 2:to_messages\n",
      "Feature 3:deferral_payments\n",
      "Feature 4:total_payments\n",
      "Feature 5:exercised_stock_options\n",
      "Feature 6:bonus\n",
      "Feature 7:restricted_stock\n",
      "Feature 8:shared_receipt_with_poi\n",
      "Feature 9:restricted_stock_deferred\n",
      "Feature 10:total_stock_value\n",
      "Feature 11:expenses\n",
      "Feature 12:loan_advances\n",
      "Feature 13:from_messages\n",
      "Feature 14:other\n",
      "Feature 15:from_this_person_to_poi\n",
      "Feature 16:poi\n",
      "Feature 17:director_fees\n",
      "Feature 18:deferred_income\n",
      "Feature 19:long_term_incentive\n",
      "Feature 20:email_address\n",
      "Feature 21:from_poi_to_this_person\n"
     ]
    }
   ],
   "source": [
    "print \"The 21 features are listed below:\"\n",
    "k=1\n",
    "for i in enron_data[\"SKILLING JEFFREY K\"]:\n",
    "    print \"Feature \"+str(k)+\": \"+i\n",
    "    k = k+1"
   ]
  },
  {
   "cell_type": "markdown",
   "metadata": {},
   "source": [
    "# Outlier Detection and Removal\n",
    "\n",
    "Just going through the Enron Dataset,I found Outlier when Bonus of people were plotted against the salary of person.\n"
   ]
  },
  {
   "cell_type": "code",
   "execution_count": 70,
   "metadata": {
    "collapsed": false
   },
   "outputs": [
    {
     "data": {
      "image/png": "[encoded data removed]",
      "text/plain": [
       "<matplotlib.figure.Figure at 0xc2eecc0>"
      ]
     },
     "metadata": {},
     "output_type": "display_data"
    }
   ],
   "source": [
    "import pickle\n",
    "import sys\n",
    "import matplotlib.pyplot\n",
    "sys.path.append(\"../tools/\")\n",
    "from feature_format import featureFormat, targetFeatureSplit\n",
    "\n",
    "\n",
    "### read in data dictionary, convert to numpy array\n",
    "data_dict = pickle.load( open(\"../final_project/final_project_dataset.pkl\", \"r\") )\n",
    "data = featureFormat(data_dict, features,remove_any_zeroes=True)\n",
    "features = [\"salary\", \"bonus\"]\n",
    "for point in data:\n",
    "    salary = point[0]\n",
    "    bonus = point[1]\n",
    "    \n",
    "    matplotlib.pyplot.scatter(salary, bonus )\n",
    "matplotlib.pyplot.xlabel(\"salary\")\n",
    "matplotlib.pyplot.ylabel(\"bonus\")\n",
    "matplotlib.pyplot.show()"
   ]
  },
  {
   "cell_type": "code",
   "execution_count": 68,
   "metadata": {
    "collapsed": false
   },
   "outputs": [
    {
     "name": "stdout",
     "output_type": "stream",
     "text": [
      "TOTAL\n"
     ]
    }
   ],
   "source": [
    "#finding the point of outlier\n",
    "for key, value in data_dict.items():\n",
    "    if value['bonus'] == data.max():\n",
    "        print key"
   ]
  },
  {
   "cell_type": "markdown",
   "metadata": {},
   "source": [
    "As it can be seen \"TOTAL\" is irrelavant point.Therefor is removed and grapg is replotted below."
   ]
  },
  {
   "cell_type": "code",
   "execution_count": 85,
   "metadata": {
    "collapsed": false
   },
   "outputs": [
    {
     "data": {
      "image/png": "[encoded data removed]",
      "text/plain": [
       "<matplotlib.figure.Figure at 0xd6f5e80>"
      ]
     },
     "metadata": {},
     "output_type": "display_data"
    },
    {
     "data": {
      "text/plain": [
       "[('SKILLING JEFFREY K', 1111258), ('LAY KENNETH L', 1072321)]"
      ]
     },
     "execution_count": 85,
     "metadata": {},
     "output_type": "execute_result"
    }
   ],
   "source": [
    "data_dict.pop('TOTAL',0)\n",
    "data = featureFormat(data_dict, features)\n",
    "\n",
    "for point in data:\n",
    "    salary = point[0]\n",
    "    bonus = point[1]\n",
    "    matplotlib.pyplot.scatter( salary, bonus )\n",
    "\n",
    "matplotlib.pyplot.xlabel(\"salary\")\n",
    "matplotlib.pyplot.ylabel(\"bonus\")\n",
    "matplotlib.pyplot.show()\n",
    "\n"
   ]
  },
  {
   "cell_type": "code",
   "execution_count": 86,
   "metadata": {
    "collapsed": false
   },
   "outputs": [
    {
     "data": {
      "text/plain": [
       "[('SKILLING JEFFREY K', 1111258), ('LAY KENNETH L', 1072321)]"
      ]
     },
     "execution_count": 86,
     "metadata": {},
     "output_type": "execute_result"
    }
   ],
   "source": [
    "##other ouliers\n",
    "outliers = []\n",
    "for key in data_dict:\n",
    "    val = data_dict[key]['salary']\n",
    "    if val == 'NaN':\n",
    "        continue \n",
    "    \n",
    "    outliers.append((key,int(val)))\n",
    "    \n",
    "outliers_final = (sorted(outliers,key=lambda x:x[1],reverse=True)[:2])\n",
    "outliers_final"
   ]
  },
  {
   "cell_type": "markdown",
   "metadata": {},
   "source": [
    "These points cannot be removed from dataset as they are important people in Enron case and represent as the person of Interest(POI)."
   ]
  },
  {
   "cell_type": "markdown",
   "metadata": {},
   "source": [
    "### Linear Regression to predict Bonus from salary\n",
    "Now,To predict the bonus of an Employee when only salary of a person is only given.Linear Regression is used.\n",
    "In regression, you need training and testing data, just like in classification.\n",
    "We will see how outlier affect the Regression.\n",
    "Outlier Detection and Removal is a process which comprise of:\n",
    "\n",
    "1. Train the dataset.\n",
    "2. Identify the outlier and remove the points with Residual Error.\n",
    "3. Re-Train the dataset."
   ]
  },
  {
   "cell_type": "code",
   "execution_count": 95,
   "metadata": {
    "collapsed": false
   },
   "outputs": [
    {
     "name": "stdout",
     "output_type": "stream",
     "text": [
      "[ 0.27229528]\n",
      "-0.877354252073\n"
     ]
    },
    {
     "data": {
      "image/png": "[encoded data removed]",
      "text/plain": [
       "<matplotlib.figure.Figure at 0xc036ef0>"
      ]
     },
     "metadata": {},
     "output_type": "display_data"
    }
   ],
   "source": [
    "## Training the data\n",
    "data_dict = pickle.load( open(\"../final_project/final_project_dataset.pkl\", \"r\") )\n",
    "data = featureFormat(data_dict, features,remove_any_zeroes=True)\n",
    "features = [\"salary\", \"bonus\"]\n",
    "target, feature = targetFeatureSplit( data )\n",
    "\n",
    "from sklearn.cross_validation import train_test_split\n",
    "feature_train, feature_test, target_train, target_test = train_test_split(feature, target, test_size=0.5, random_state=42)\n",
    "from sklearn.linear_model import LinearRegression as lr\n",
    "reg=lr()\n",
    "reg.fit(feature_train,target_train)\n",
    "try:\n",
    "    matplotlib.pyplot.plot( feature_test, reg.predict(feature_test),color='r' )\n",
    "except NameError:\n",
    "    pass\n",
    "\n",
    "print reg.coef_\n",
    "print reg.score(feature_test , target_test)\n",
    "\n",
    "matplotlib.pyplot.xlabel(\"salary\")\n",
    "matplotlib.pyplot.ylabel(\"bonus\")\n",
    "matplotlib.pyplot.show()\n",
    "import matplotlib.pyplot as plt\n",
    "for feature, target in zip(feature_test, target_test):\n",
    "    matplotlib.pyplot.scatter( feature, target, color=\"r\" ) \n",
    "for feature, target in zip(feature_train, target_train):\n",
    "    matplotlib.pyplot.scatter( feature, target, color=\"b\" ) \n"
   ]
  },
  {
   "cell_type": "code",
   "execution_count": 97,
   "metadata": {
    "collapsed": false
   },
   "outputs": [
    {
     "name": "stdout",
     "output_type": "stream",
     "text": [
      "[ 0.03954061]\n",
      "0.203020850473\n"
     ]
    },
    {
     "data": {
      "image/png": "[encoded data removed]",
      "text/plain": [
       "<matplotlib.figure.Figure at 0xd4c2630>"
      ]
     },
     "metadata": {},
     "output_type": "display_data"
    }
   ],
   "source": [
    "### Identification of outlier\n",
    "#!/usr/bin/python\n",
    "\n",
    "\n",
    "data_dict.pop('TOTAL',0)\n",
    "# data_dict.pop('LAVORATO JOHN J',0)\n",
    "data = featureFormat(data_dict, features,remove_any_zeroes=True)\n",
    "target, feature = targetFeatureSplit( data )\n",
    "\n",
    "from sklearn.cross_validation import train_test_split\n",
    "feature_train, feature_test, target_train, target_test = train_test_split(feature, target, test_size=0.5, random_state=42)\n",
    "from sklearn.linear_model import LinearRegression as lr\n",
    "reg=lr()\n",
    "reg.fit(feature_train,target_train)\n",
    "try:\n",
    "    matplotlib.pyplot.plot( feature_test, reg.predict(feature_test) )\n",
    "except NameError:\n",
    "    pass\n",
    "\n",
    "print reg.coef_\n",
    "print reg.score(feature_test , target_test)\n",
    "\n",
    "matplotlib.pyplot.xlabel(\"salary\")\n",
    "matplotlib.pyplot.ylabel(\"bonus\")\n",
    "matplotlib.pyplot.show()\n",
    "import matplotlib.pyplot as plt\n",
    "for feature, target in zip(feature_test, target_test):\n",
    "    matplotlib.pyplot.scatter( feature, target, color=\"r\" ) \n",
    "for feature, target in zip(feature_train, target_train):\n",
    "    matplotlib.pyplot.scatter( feature, target, color=\"b\" ) \n",
    "\n"
   ]
  },
  {
   "cell_type": "markdown",
   "metadata": {},
   "source": []
  },
  {
   "cell_type": "markdown",
   "metadata": {},
   "source": [
    "It can be observed how outlier affects the result of Regression.There is drastic difference between regression score with  outlier and without outlier.Therefore outliers must be removed from dataset before any conclusions."
   ]
  },
  {
   "cell_type": "markdown",
   "metadata": {},
   "source": [
    "## Feature Processing\n"
   ]
  },
  {
   "cell_type": "markdown",
   "metadata": {},
   "source": [
    "### New Features"
   ]
  },
  {
   "cell_type": "code",
   "execution_count": 162,
   "metadata": {
    "collapsed": false
   },
   "outputs": [
    {
     "data": {
      "image/png": "[encoded data removed]",
      "text/plain": [
       "<matplotlib.figure.Figure at 0xc7eab38>"
      ]
     },
     "metadata": {},
     "output_type": "display_data"
    }
   ],
   "source": [
    "# from sklearn.feature_selection import SelectKBest, f_classif\n",
    "\n",
    "# selector = SelectKBest(f_classif, k=10)\n",
    "# selector.fit(features_train, labels_train)\n",
    "# features_train_transformed = selector.transform(features_train).toarray()\n",
    "# features_test_transformed  = selector.transform(features_test).toarray()\n",
    "\n",
    "##New Features\n",
    "def dict_to_list(key,normalizer):\n",
    "    new_list=[]\n",
    "\n",
    "    for i in data_dict:\n",
    "        if data_dict[i][key]==\"NaN\" or data_dict[i][normalizer]==\"NaN\":\n",
    "            new_list.append(0.)\n",
    "        elif data_dict[i][key]>=0:\n",
    "            new_list.append(float(data_dict[i][key])/float(data_dict[i][normalizer]))\n",
    "    return new_list\n",
    "\n",
    "### create two lists of new features\n",
    "fraction_from_poi_email=dict_to_list(\"from_poi_to_this_person\",\"to_messages\")\n",
    "fraction_to_poi_email=dict_to_list(\"from_this_person_to_poi\",\"from_messages\")\n",
    "\n",
    "### insert new features into data_dict\n",
    "count=0\n",
    "for i in data_dict:\n",
    "    data_dict[i][\"fraction_from_poi_email\"]=fraction_from_poi_email[count]\n",
    "    data_dict[i][\"fraction_to_poi_email\"]=fraction_to_poi_email[count]\n",
    "    count +=1\n",
    "\n",
    "\n",
    "### store to my_dataset for easy export below\n",
    "my_dataset = data_dict\n",
    "for item in data_dict:\n",
    "    Fraction_to=data_dict[item]['from_this_person_to_poi']\n",
    "    Fraction_From=data_dict[item]['from_poi_to_this_person']\n",
    "    if(data_dict[item]['poi']==1):\n",
    "       matplotlib.pyplot.scatter( Fraction_From, Fraction_to,color='r' )\n",
    "    else:\n",
    "       matplotlib.pyplot.scatter( Fraction_From, Fraction_to,color='b' )\n",
    "matplotlib.pyplot.xlabel(\"from_poi_to_this_person\")\n",
    "matplotlib.pyplot.ylabel(\"from_this_person_to_poi\")\n",
    "matplotlib.pyplot.show()\n"
   ]
  },
  {
   "cell_type": "markdown",
   "metadata": {},
   "source": [
    "When I picked 'from_poi_to_this_person' and 'from_this_person_to_poi' but there is was no strong pattern\n",
    "when I plotted the data so I used fractions for both features of “from/to poi messages” and “total\n",
    "from/to messages”."
   ]
  },
  {
   "cell_type": "code",
   "execution_count": 117,
   "metadata": {
    "collapsed": false
   },
   "outputs": [
    {
     "data": {
      "image/png": "[encoded data removed]",
      "text/plain": [
       "<matplotlib.figure.Figure at 0xd1ec0b8>"
      ]
     },
     "metadata": {},
     "output_type": "display_data"
    }
   ],
   "source": [
    "for item in data_dict:\n",
    "    Fraction_to=data_dict[item]['fraction_to_poi_email']\n",
    "    Fraction_From=data_dict[item]['fraction_from_poi_email']\n",
    "    if(data_dict[item]['poi']==1):\n",
    "       matplotlib.pyplot.scatter( Fraction_From, Fraction_to,color='r' )\n",
    "    else:\n",
    "       matplotlib.pyplot.scatter( Fraction_From, Fraction_to,color='b' )\n",
    "matplotlib.pyplot.xlabel(\"fraction_from_poi_email\")\n",
    "matplotlib.pyplot.ylabel(\"fraction_to_poi_email\")\n",
    "matplotlib.pyplot.show()"
   ]
  },
  {
   "cell_type": "markdown",
   "metadata": {},
   "source": [
    "Two new features were created and tested for this project. These were:\n",
    "● the fraction of all emails to a person that were sent from a person of interest;\n",
    "● the fraction of all emails that a person sent that were addressed to persons of interest.\n",
    "My assumption was that there is stronger connection between POI’s via email then that between POI’s\n",
    "and non-POI’s. When we look at scatterplot we can agree that the data pattern confirms said\n",
    "above, e.i. there is no POI below 0.2 in “x” axis.\n"
   ]
  },
  {
   "cell_type": "markdown",
   "metadata": {},
   "source": [
    "### Feature Selection"
   ]
  },
  {
   "cell_type": "code",
   "execution_count": 173,
   "metadata": {
    "collapsed": false
   },
   "outputs": [
    {
     "name": "stdout",
     "output_type": "stream",
     "text": [
      "Accuracy when using Naive Bayes Classifier:0.318181818182\n",
      "NB algorithm time: 0.014 s\n"
     ]
    }
   ],
   "source": [
    "features_list=[\"salary\", \"bonus\", \"fraction_from_poi_email\", \"fraction_to_poi_email\",\n",
    "'deferral_payments', 'total_payments', 'loan_advances', 'restricted_stock_deferred',\n",
    "'deferred_income', 'total_stock_value']\n",
    "data = featureFormat(data_dict, features_list)\n",
    "labels, features = targetFeatureSplit(data)\n",
    "\n",
    "from sklearn.cross_validation import train_test_split\n",
    "features_train,features_test,labels_train,labels_test=train_test_split(features,labels,test_size=0.3,random_state=42)\n",
    "from sklearn.naive_bayes import GaussianNB\n",
    "from time import time\n",
    "t0 = time()\n",
    "\n",
    "clf = GaussianNB()\n",
    "clf.fit(features_train, labels_train)\n",
    "pred = clf.predict(features_test)\n",
    "accuracy = accuracy_score(pred,labels_test)\n",
    "print \"Accuracy when using Naive Bayes Classifier:\"+str(accuracy)\n",
    "\n",
    "print \"NB algorithm time:\", round(time()-t0, 3), \"s\"\n"
   ]
  },
  {
   "cell_type": "markdown",
   "metadata": {},
   "source": [
    "Manually picked Features that maximize the accuracy of the Classifier."
   ]
  },
  {
   "cell_type": "code",
   "execution_count": 175,
   "metadata": {
    "collapsed": false
   },
   "outputs": [
    {
     "name": "stdout",
     "output_type": "stream",
     "text": [
      "Accuracy when using Naive Bayes Classifier:0.807692307692\n",
      "Precision: 0.0\n",
      "Recall: 0.0\n",
      "NB algorithm time: 0.005 s\n"
     ]
    }
   ],
   "source": [
    "features_list = [\"poi\", \"fraction_from_poi_email\", \"fraction_to_poi_email\", 'shared_receipt_with_poi']\n",
    "data = featureFormat(data_dict, features_list)\n",
    "labels, features = targetFeatureSplit(data)\n",
    "\n",
    "from sklearn.cross_validation import train_test_split\n",
    "features_train,features_test,labels_train,labels_test=train_test_split(features,labels,test_size=0.3,random_state=42)\n",
    "from sklearn.naive_bayes import GaussianNB\n",
    "from time import time\n",
    "t0 = time()\n",
    "\n",
    "clf = GaussianNB()\n",
    "clf.fit(features_train, labels_train)\n",
    "pred = clf.predict(features_test)\n",
    "accuracy = accuracy_score(pred,labels_test)\n",
    "print \"Accuracy when using Naive Bayes Classifier:\"+str(accuracy)\n",
    "print \"Precision: \" +str(precision_score(pred,labels_test))\n",
    "print \"Recall: \"+str(recall_score(pred,labels_test))\n",
    "print \"NB algorithm time:\", round(time()-t0, 3), \"s\""
   ]
  },
  {
   "cell_type": "markdown",
   "metadata": {},
   "source": [
    "## Classification Algorithm for Enron Dataset\n",
    "When there is no splitting of data as Training and Testing set."
   ]
  },
  {
   "cell_type": "code",
   "execution_count": 176,
   "metadata": {
    "collapsed": false
   },
   "outputs": [
    {
     "name": "stdout",
     "output_type": "stream",
     "text": [
      "1.0\n"
     ]
    }
   ],
   "source": [
    "##Decision Tree Classifier\n",
    "from sklearn.tree import DecisionTreeClassifier\n",
    "clf=DecisionTreeClassifier()\n",
    "clf.fit(features,labels)\n",
    "pred=clf.predict(features)\n",
    "\n",
    "\n",
    "from sklearn.metrics import accuracy_score\n",
    "acc=accuracy_score(pred,labels)\n",
    "print acc"
   ]
  },
  {
   "cell_type": "markdown",
   "metadata": {},
   "source": [
    "There are two problems when there is no splitting of Training and Testing data:\n",
    "* Performance of the algorithm cannit be compared.\n",
    "* Overfitting of Data.\n",
    "Therefore splitting the dataset into Training and testing dataset as shown below:"
   ]
  },
  {
   "cell_type": "code",
   "execution_count": 177,
   "metadata": {
    "collapsed": false
   },
   "outputs": [
    {
     "name": "stdout",
     "output_type": "stream",
     "text": [
      "Accuracy when using Decision Tree Classifier: 0.923076923077\n",
      "DT algorithm time: 0.002 s\n",
      "Precision: 0.5\n",
      "Recall: 1.0\n"
     ]
    }
   ],
   "source": [
    "t0 = time()\n",
    "\n",
    "clf=DecisionTreeClassifier()\n",
    "clf.fit(features_train,labels_train)\n",
    "pred=clf.predict(features_test)\n",
    "\n",
    "from sklearn.metrics import accuracy_score,precision_score,recall_score\n",
    "acc=accuracy_score(pred,labels_test)\n",
    "\n",
    "print \"Accuracy when using Decision Tree Classifier: \" + str(acc)\n",
    "print \"DT algorithm time:\", round(time()-t0, 3), \"s\"\n",
    "print \"Precision: \" +str(precision_score(pred,labels_test))\n",
    "print \"Recall: \"+str(recall_score(pred,labels_test))"
   ]
  },
  {
   "cell_type": "markdown",
   "metadata": {},
   "source": [
    "## Parameter Tuning \n",
    " In this dataset I cannot use accuracy for evaluating my algorithm because there a few POI’s in\n",
    "dataset and the best evaluator are precision and recall. There were only 18 examples of POIs in\n",
    "the dataset. There were 35 people who were POIs in “real life”, but for various reasons, half of\n",
    "those are not present in this dataset.\n",
    "\n",
    "By manually setting the min_samples_split parameter in Decision Tree, Precision and Recall can be compared."
   ]
  },
  {
   "cell_type": "code",
   "execution_count": 182,
   "metadata": {
    "collapsed": false
   },
   "outputs": [
    {
     "name": "stdout",
     "output_type": "stream",
     "text": [
      "Accuracy when using Decision Tree Classifier: 0.884615384615\n",
      "DT algorithm time: 0.001 s\n",
      "Precision: 0.5\n",
      "Recall: 0.666666666667\n",
      "Accuracy when using Decision Tree Classifier: 0.923076923077\n",
      "DT algorithm time: 0.001 s\n",
      "Precision: 0.5\n",
      "Recall: 1.0\n",
      "Accuracy when using Decision Tree Classifier: 0.884615384615\n",
      "DT algorithm time: 0.001 s\n",
      "Precision: 0.5\n",
      "Recall: 0.666666666667\n",
      "Accuracy when using Decision Tree Classifier: 0.884615384615\n",
      "DT algorithm time: 0.001 s\n",
      "Precision: 0.5\n",
      "Recall: 0.666666666667\n",
      "Accuracy when using Decision Tree Classifier: 0.846153846154\n",
      "DT algorithm time: 0.001 s\n",
      "Precision: 0.75\n",
      "Recall: 0.5\n",
      "Accuracy when using Decision Tree Classifier: 0.769230769231\n",
      "DT algorithm time: 0.001 s\n",
      "Precision: 0.75\n",
      "Recall: 0.375\n"
     ]
    }
   ],
   "source": [
    "def dt_min_samples_split(k):\n",
    "    t0 = time()\n",
    "\n",
    "    clf=DecisionTreeClassifier(min_samples_split=k)\n",
    "    clf.fit(features_train,labels_train)\n",
    "    pred=clf.predict(features_test)\n",
    "\n",
    "    from sklearn.metrics import accuracy_score,precision_score,recall_score\n",
    "    acc=accuracy_score(pred,labels_test)\n",
    "\n",
    "    print \"Accuracy when using Decision Tree Classifier: \" + str(acc)\n",
    "    print \"DT algorithm time:\", round(time()-t0, 3), \"s\"\n",
    "    print \"Precision: \" +str(precision_score(pred,labels_test))\n",
    "    print \"Recall: \"+str(recall_score(pred,labels_test))\n",
    "    \n",
    "dt_min_samples_split(2)\n",
    "dt_min_samples_split(3)\n",
    "dt_min_samples_split(5)\n",
    "dt_min_samples_split(10)\n",
    "dt_min_samples_split(15)\n",
    "dt_min_samples_split(20)"
   ]
  },
  {
   "cell_type": "markdown",
   "metadata": {},
   "source": [
    "## Validation Of Classifier\n",
    "First I used accuracy to evaluate my algorithm. It was a mistake because in this case we have a\n",
    "class imbalance problem : the number of POIs is small compared to the total number of\n",
    "examples in the dataset. So I had to use precision and recall for these activities instead.\n",
    "I was able to reach average value of precision = 0.6, recall = 0.771.\n"
   ]
  },
  {
   "cell_type": "markdown",
   "metadata": {},
   "source": [
    "# Conclusion\n",
    "Firstly I tried Naive Bayes accuracy was lower than with Decision Tree Algorithm (0.80 and 0.92\n",
    "respectively). I made a conclusion that that the feature set I used does not suit the distributional\n",
    "and interactive assumptions of Naive Bayes well.\n",
    "I selected Decision Tree Algorithm for the POI identifier. It gave me accuracy before tuning\n",
    "parameters = 0.88. No feature scaling was used, as it’s not necessary when using a decision\n",
    "tree.\n",
    "After selecting features and algorithm I manually tuned parameter min_samples_split.\n",
    "After using min_samples_split as 3 the Decision Tree gave maximum accuracy.\n"
   ]
  }
 ],
 "metadata": {
  "anaconda-cloud": {},
  "kernelspec": {
   "display_name": "Python 2",
   "language": "python",
   "name": "python2"
  },
  "language_info": {
   "codemirror_mode": {
    "name": "ipython",
    "version": 2
   },
   "file_extension": ".py",
   "mimetype": "text/x-python",
   "name": "python",
   "nbconvert_exporter": "python",
   "pygments_lexer": "ipython2",
   "version": "2.7.12"
  }
 },
 "nbformat": 4,
 "nbformat_minor": 2
}
