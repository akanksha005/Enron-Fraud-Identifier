{
 "cells": [
  {
   "cell_type": "markdown",
   "metadata": {
    "collapsed": true
   },
   "source": [
    "# Identify Fraud From Enron Email Dataset\n",
    "\n",
    "In 2000, Enron was one of the largest companies in the United States in energy trading and was named as 'America's most innovative company'. By 2002, it had collapsed into bankruptcy due to widespread corporate fraud. In the resulting Federal investigation, a significant amount of typically confidential information entered into the public record, including tens of thousands of emails and detailed financial data for top executives. In this project, i have applied my machine learning skills by building a person of interest identifier based on financial and email data made public as a result of the Enron scandal. To assist, we've combined this data with a hand-generated list of persons of interest in the fraud case, which means individuals who were indicted, reached a settlement or plea deal with the government, or testified in exchange for prosecution immunity.\n",
    "\n",
    "There are seven major steps in my project:\n",
    "1. Load the Dataset and Query the dataset.\n",
    "2. Outlier Detection and Removal\n",
    "3. Feature Pre-processing\n",
    "4. Classifier\n",
    "5. Comparison of different classifier\n",
    "6. Parameter Tuning\n",
    "7. Validation of Classifier"
   ]
  },
  {
   "cell_type": "markdown",
   "metadata": {},
   "source": [
    "## Load The Dataset\n"
   ]
  },
  {
   "cell_type": "code",
   "execution_count": 347,
   "metadata": {
    "collapsed": false
   },
   "outputs": [
    {
     "name": "stdout",
     "output_type": "stream",
     "text": [
      "There are 146 executives in Enron Dataset\n"
     ]
    }
   ],
   "source": [
    "\"\"\" \n",
    "    Starter code for exploring the Enron dataset (emails + finances);\n",
    "    loads up the dataset (pickled dict of dicts).\n",
    "\n",
    "    The dataset has the form:\n",
    "    enron_data[\"LASTNAME FIRSTNAME MIDDLEINITIAL\"] = { features_dict }\n",
    "\n",
    "    {features_dict} is a dictionary of features associated with that person.\n",
    "    and here's an example to get you started:\n",
    "\n",
    "    enron_data[\"SKILLING JEFFREY K\"][\"bonus\"] = 5600000\n",
    "    \n",
    "\"\"\"\n",
    "\n",
    "import pickle\n",
    "\n",
    "enron_data = pickle.load(open(\"../final_project/final_project_dataset.pkl\", \"r\"))\n",
    "print \"There are \"+str(len(enron_data))+\" executives in Enron Dataset\""
   ]
  },
  {
   "cell_type": "code",
   "execution_count": 348,
   "metadata": {
    "collapsed": false
   },
   "outputs": [
    {
     "name": "stdout",
     "output_type": "stream",
     "text": [
      "There are 18 Person of Interest(POI) and 128 Non-POIs  in our Dataset \n"
     ]
    }
   ],
   "source": [
    "count=0\n",
    "for i in enron_data:\n",
    "    if(enron_data[i][\"poi\"]==1):\n",
    "        count=count+1\n",
    "print \"There are \"+str(count)+\" Person of Interest(POI) and \"+str((len(enron_data))-(count))+\" Non-POIs  in our Dataset \""
   ]
  },
  {
   "cell_type": "code",
   "execution_count": 349,
   "metadata": {
    "collapsed": false
   },
   "outputs": [
    {
     "name": "stdout",
     "output_type": "stream",
     "text": [
      "There are 21 features available for each person\n"
     ]
    }
   ],
   "source": [
    "print \"There are \"+str(len(enron_data[\"SKILLING JEFFREY K\"]))+\" features available for each person\""
   ]
  },
  {
   "cell_type": "code",
   "execution_count": 403,
   "metadata": {
    "collapsed": false
   },
   "outputs": [
    {
     "name": "stdout",
     "output_type": "stream",
     "text": [
      "The 21 features are listed below:\n",
      "Feature 1: salary\n",
      "Feature 2: to_messages\n",
      "Feature 3: deferral_payments\n",
      "Feature 4: total_payments\n",
      "Feature 5: exercised_stock_options\n",
      "Feature 6: bonus\n",
      "Feature 7: restricted_stock\n",
      "Feature 8: shared_receipt_with_poi\n",
      "Feature 9: restricted_stock_deferred\n",
      "Feature 10: total_stock_value\n",
      "Feature 11: expenses\n",
      "Feature 12: loan_advances\n",
      "Feature 13: from_messages\n",
      "Feature 14: other\n",
      "Feature 15: from_this_person_to_poi\n",
      "Feature 16: poi\n",
      "Feature 17: director_fees\n",
      "Feature 18: deferred_income\n",
      "Feature 19: long_term_incentive\n",
      "Feature 20: email_address\n",
      "Feature 21: from_poi_to_this_person\n",
      "Features_list:['poi', 'salary', 'to_messages', 'total_payments', 'exercised_stock_options', 'bonus', 'restricted_stock', 'shared_receipt_with_poi', 'total_stock_value', 'expenses', 'from_messages', 'other', 'from_this_person_to_poi', 'long_term_incentive', 'from_poi_to_this_person']\n"
     ]
    }
   ],
   "source": [
    "print \"The 21 features are listed below:\"\n",
    "k=1\n",
    "features_list=['poi']\n",
    "for i in enron_data[\"SKILLING JEFFREY K\"]:\n",
    "    print \"Feature \"+str(k)+\": \"+i\n",
    "    if (i!='poi' and type(enron_data[\"SKILLING JEFFREY K\"][i])==int):\n",
    "        features_list.append(i)\n",
    "    k = k+1\n",
    "print \"Features_list:\"+str(features_list)"
   ]
  },
  {
   "cell_type": "markdown",
   "metadata": {},
   "source": [
    "# Outlier Detection and Removal\n",
    "\n",
    "Just going through the Enron Dataset,I found Outlier when Bonus of people were plotted against the salary of person.\n"
   ]
  },
  {
   "cell_type": "code",
   "execution_count": 404,
   "metadata": {
    "collapsed": false
   },
   "outputs": [
    {
     "data": {
      "image/png": "[encoded data removed]",
      "text/plain": [
       "<matplotlib.figure.Figure at 0xd1ec2b0>"
      ]
     },
     "metadata": {},
     "output_type": "display_data"
    }
   ],
   "source": [
    "import pickle\n",
    "import sys\n",
    "import matplotlib.pyplot\n",
    "sys.path.append(\"../tools/\")\n",
    "from feature_format import featureFormat, targetFeatureSplit\n",
    "\n",
    "\n",
    "### read in data dictionary, convert to numpy array\n",
    "data_dict = pickle.load( open(\"../final_project/final_project_dataset.pkl\", \"r\") )\n",
    "features = [\"salary\", \"bonus\"]\n",
    "data = featureFormat(data_dict, features,remove_any_zeroes=True)\n",
    "\n",
    "for point in data:\n",
    "    salary = point[0]\n",
    "    bonus = point[1]\n",
    "    \n",
    "    matplotlib.pyplot.scatter(salary, bonus )\n",
    "matplotlib.pyplot.xlabel(\"salary\")\n",
    "matplotlib.pyplot.ylabel(\"bonus\")\n",
    "matplotlib.pyplot.show()"
   ]
  },
  {
   "cell_type": "code",
   "execution_count": 405,
   "metadata": {
    "collapsed": false
   },
   "outputs": [
    {
     "name": "stdout",
     "output_type": "stream",
     "text": [
      "TOTAL\n"
     ]
    }
   ],
   "source": [
    "#finding the point of outlier\n",
    "for key, value in data_dict.items():\n",
    "    if value['bonus'] == data.max():\n",
    "        print key"
   ]
  },
  {
   "cell_type": "markdown",
   "metadata": {},
   "source": [
    "As it can be seen \"TOTAL\" is irrelavant point.Therefor is removed and grapg is replotted below."
   ]
  },
  {
   "cell_type": "code",
   "execution_count": 406,
   "metadata": {
    "collapsed": false
   },
   "outputs": [
    {
     "data": {
      "image/png": "[encoded data removed]",
      "text/plain": [
       "<matplotlib.figure.Figure at 0xb217eb8>"
      ]
     },
     "metadata": {},
     "output_type": "display_data"
    }
   ],
   "source": [
    "data_dict.pop('TOTAL',0)\n",
    "data = featureFormat(data_dict, features)\n",
    "\n",
    "for point in data:\n",
    "    salary = point[0]\n",
    "    bonus = point[1]\n",
    "    matplotlib.pyplot.scatter( salary, bonus )\n",
    "\n",
    "matplotlib.pyplot.xlabel(\"salary\")\n",
    "matplotlib.pyplot.ylabel(\"bonus\")\n",
    "matplotlib.pyplot.show()\n",
    "\n"
   ]
  },
  {
   "cell_type": "code",
   "execution_count": 407,
   "metadata": {
    "collapsed": false
   },
   "outputs": [
    {
     "data": {
      "text/plain": [
       "[('SKILLING JEFFREY K', 1111258), ('LAY KENNETH L', 1072321)]"
      ]
     },
     "execution_count": 407,
     "metadata": {},
     "output_type": "execute_result"
    }
   ],
   "source": [
    "##other ouliers\n",
    "outliers = []\n",
    "for key in data_dict:\n",
    "    val = data_dict[key]['salary']\n",
    "    if val == 'NaN':\n",
    "        continue \n",
    "    \n",
    "    outliers.append((key,int(val)))\n",
    "    \n",
    "outliers_final = (sorted(outliers,key=lambda x:x[1],reverse=True)[:2])\n",
    "outliers_final"
   ]
  },
  {
   "cell_type": "markdown",
   "metadata": {},
   "source": [
    "These points cannot be removed from dataset as they are important people in Enron case and represent as the person of Interest(POI)."
   ]
  },
  {
   "cell_type": "markdown",
   "metadata": {},
   "source": [
    "### Linear Regression to predict Bonus from salary\n",
    "Now,To predict the bonus of an Employee when only salary of a person is only given.Linear Regression is used.\n",
    "In regression, you need training and testing data, just like in classification.\n",
    "We will see how outlier affect the Regression.\n",
    "Outlier Detection and Removal is a process which comprise of:\n",
    "\n",
    "1. Train the dataset.\n",
    "2. Identify the outlier and remove the points with Residual Error.\n",
    "3. Re-Train the dataset."
   ]
  },
  {
   "cell_type": "code",
   "execution_count": 408,
   "metadata": {
    "collapsed": false
   },
   "outputs": [
    {
     "name": "stdout",
     "output_type": "stream",
     "text": [
      "[ 0.27229528]\n",
      "-0.877354252073\n"
     ]
    },
    {
     "data": {
      "image/png": "[encoded data removed]",
      "text/plain": [
       "<matplotlib.figure.Figure at 0xbb85320>"
      ]
     },
     "metadata": {},
     "output_type": "display_data"
    }
   ],
   "source": [
    "## Training the data\n",
    "data_dict = pickle.load( open(\"../final_project/final_project_dataset.pkl\", \"r\") )\n",
    "data = featureFormat(data_dict, features,remove_any_zeroes=True)\n",
    "features = [\"salary\", \"bonus\"]\n",
    "target, feature = targetFeatureSplit( data )\n",
    "\n",
    "from sklearn.cross_validation import train_test_split\n",
    "feature_train, feature_test, target_train, target_test = train_test_split(feature, target, test_size=0.5, random_state=42)\n",
    "from sklearn.linear_model import LinearRegression as lr\n",
    "reg=lr()\n",
    "reg.fit(feature_train,target_train)\n",
    "try:\n",
    "    matplotlib.pyplot.plot( feature_test, reg.predict(feature_test),color='r' )\n",
    "except NameError:\n",
    "    pass\n",
    "\n",
    "print reg.coef_\n",
    "print reg.score(feature_test , target_test)\n",
    "\n",
    "\n",
    "import matplotlib.pyplot as plt\n",
    "for feature, target in zip(feature_test, target_test):\n",
    "    matplotlib.pyplot.scatter( feature, target, color=\"r\" ) \n",
    "for feature, target in zip(feature_train, target_train):\n",
    "    matplotlib.pyplot.scatter( feature, target, color=\"b\" ) \n",
    "matplotlib.pyplot.xlabel(\"salary\")\n",
    "matplotlib.pyplot.ylabel(\"bonus\")\n",
    "matplotlib.pyplot.show()\n"
   ]
  },
  {
   "cell_type": "code",
   "execution_count": 409,
   "metadata": {
    "collapsed": false
   },
   "outputs": [
    {
     "name": "stdout",
     "output_type": "stream",
     "text": [
      "[ 0.03954061]\n",
      "0.203020850473\n"
     ]
    },
    {
     "data": {
      "image/png": "[encoded data removed]",
      "text/plain": [
       "<matplotlib.figure.Figure at 0xd3af0f0>"
      ]
     },
     "metadata": {},
     "output_type": "display_data"
    }
   ],
   "source": [
    "### Identification of outlier\n",
    "#!/usr/bin/python\n",
    "\n",
    "\n",
    "data_dict.pop('TOTAL',0)\n",
    "# data_dict.pop('LAVORATO JOHN J',0)\n",
    "data = featureFormat(data_dict, features,remove_any_zeroes=True)\n",
    "target, feature = targetFeatureSplit( data )\n",
    "\n",
    "from sklearn.cross_validation import train_test_split\n",
    "feature_train, feature_test, target_train, target_test = train_test_split(feature, target, test_size=0.5, random_state=42)\n",
    "from sklearn.linear_model import LinearRegression as lr\n",
    "reg=lr()\n",
    "reg.fit(feature_train,target_train)\n",
    "try:\n",
    "    matplotlib.pyplot.plot( feature_test, reg.predict(feature_test) )\n",
    "except NameError:\n",
    "    pass\n",
    "\n",
    "print reg.coef_\n",
    "print reg.score(feature_test , target_test)\n",
    "\n",
    "\n",
    "import matplotlib.pyplot as plt\n",
    "for feature, target in zip(feature_test, target_test):\n",
    "    matplotlib.pyplot.scatter( feature, target, color=\"r\" ) \n",
    "for feature, target in zip(feature_train, target_train):\n",
    "    matplotlib.pyplot.scatter( feature, target, color=\"b\" ) \n",
    "\n",
    "matplotlib.pyplot.xlabel(\"salary\")\n",
    "matplotlib.pyplot.ylabel(\"bonus\")\n",
    "matplotlib.pyplot.show()"
   ]
  },
  {
   "cell_type": "markdown",
   "metadata": {},
   "source": []
  },
  {
   "cell_type": "markdown",
   "metadata": {},
   "source": [
    "It can be observed how outlier affects the result of Regression.There is drastic difference between regression score with  outlier and without outlier.Therefore outliers must be removed from dataset before any conclusions."
   ]
  },
  {
   "cell_type": "markdown",
   "metadata": {},
   "source": [
    "## Feature Processing\n"
   ]
  },
  {
   "cell_type": "markdown",
   "metadata": {},
   "source": [
    "### New Features"
   ]
  },
  {
   "cell_type": "code",
   "execution_count": 410,
   "metadata": {
    "collapsed": false
   },
   "outputs": [
    {
     "data": {
      "image/png": "[encoded data removed]",
      "text/plain": [
       "<matplotlib.figure.Figure at 0xd3f3d68>"
      ]
     },
     "metadata": {},
     "output_type": "display_data"
    }
   ],
   "source": [
    "# from sklearn.feature_selection import SelectKBest, f_classif\n",
    "\n",
    "# selector = SelectKBest(f_classif, k=10)\n",
    "# selector.fit(features_train, labels_train)\n",
    "# features_train_transformed = selector.transform(features_train).toarray()\n",
    "# features_test_transformed  = selector.transform(features_test).toarray()\n",
    "\n",
    "##New Features\n",
    "def dict_to_list(key,normalizer):\n",
    "    new_list=[]\n",
    "\n",
    "    for i in data_dict:\n",
    "        if data_dict[i][key]==\"NaN\" or data_dict[i][normalizer]==\"NaN\":\n",
    "            new_list.append(0.)\n",
    "        elif data_dict[i][key]>=0:\n",
    "            new_list.append(float(data_dict[i][key])/float(data_dict[i][normalizer]))\n",
    "    return new_list\n",
    "\n",
    "### create two lists of new features\n",
    "fraction_from_poi_email=dict_to_list(\"from_poi_to_this_person\",\"to_messages\")\n",
    "fraction_to_poi_email=dict_to_list(\"from_this_person_to_poi\",\"from_messages\")\n",
    "\n",
    "### insert new features into data_dict\n",
    "count=0\n",
    "for i in data_dict:\n",
    "    data_dict[i][\"fraction_from_poi_email\"]=fraction_from_poi_email[count]\n",
    "    data_dict[i][\"fraction_to_poi_email\"]=fraction_to_poi_email[count]\n",
    "    count +=1\n",
    "\n",
    "\n",
    "### store to my_dataset for easy export below\n",
    "my_dataset = data_dict\n",
    "for item in data_dict:\n",
    "    Fraction_to=data_dict[item]['from_this_person_to_poi']\n",
    "    Fraction_From=data_dict[item]['from_poi_to_this_person']\n",
    "    if(data_dict[item]['poi']==1):\n",
    "       matplotlib.pyplot.scatter( Fraction_From, Fraction_to,color='r' )\n",
    "    else:\n",
    "       matplotlib.pyplot.scatter( Fraction_From, Fraction_to,color='b' )\n",
    "matplotlib.pyplot.xlabel(\"from_poi_to_this_person\")\n",
    "matplotlib.pyplot.ylabel(\"from_this_person_to_poi\")\n",
    "matplotlib.pyplot.show()\n"
   ]
  },
  {
   "cell_type": "markdown",
   "metadata": {},
   "source": [
    "When I picked 'from_poi_to_this_person' and 'from_this_person_to_poi' but there is was no strong pattern\n",
    "when I plotted the data so I used fractions for both features of “from/to poi messages” and “total\n",
    "from/to messages”."
   ]
  },
  {
   "cell_type": "code",
   "execution_count": 411,
   "metadata": {
    "collapsed": false
   },
   "outputs": [
    {
     "data": {
      "image/png": "[encoded data removed]",
      "text/plain": [
       "<matplotlib.figure.Figure at 0xd381cc0>"
      ]
     },
     "metadata": {},
     "output_type": "display_data"
    }
   ],
   "source": [
    "for item in data_dict:\n",
    "    Fraction_to=data_dict[item]['fraction_to_poi_email']\n",
    "    Fraction_From=data_dict[item]['fraction_from_poi_email']\n",
    "    if(data_dict[item]['poi']==1):\n",
    "       matplotlib.pyplot.scatter( Fraction_From, Fraction_to,color='r' )\n",
    "    else:\n",
    "       matplotlib.pyplot.scatter( Fraction_From, Fraction_to,color='b' )\n",
    "matplotlib.pyplot.xlabel(\"fraction_from_poi_email\")\n",
    "matplotlib.pyplot.ylabel(\"fraction_to_poi_email\")\n",
    "matplotlib.pyplot.show()"
   ]
  },
  {
   "cell_type": "markdown",
   "metadata": {},
   "source": [
    "Two new features were created and tested for this project. These were:\n",
    "● the fraction of all emails to a person that were sent from a person of interest;\n",
    "● the fraction of all emails that a person sent that were addressed to persons of interest.\n",
    "My assumption was that there is stronger connection between POI’s via email then that between POI’s\n",
    "and non-POI’s. When we look at scatterplot we can agree that the data pattern confirms said\n",
    "above, e.i. there is no POI below 0.2 in “x” axis.\n"
   ]
  },
  {
   "cell_type": "markdown",
   "metadata": {},
   "source": [
    "## Classification Algorithm for Enron Dataset\n"
   ]
  },
  {
   "cell_type": "code",
   "execution_count": 412,
   "metadata": {
    "collapsed": false
   },
   "outputs": [
    {
     "name": "stdout",
     "output_type": "stream",
     "text": [
      "Accuracy when using Naive Bayes Classifier:0.590909090909\n",
      "Precision: 0.5\n",
      "Recall: 0.222222222222\n",
      "NB algorithm time: 0.009 s\n"
     ]
    }
   ],
   "source": [
    "##Naive Bayesian Classifier\n",
    "data = featureFormat(data_dict,features_list)\n",
    "labels, features = targetFeatureSplit(data)\n",
    "\n",
    "from sklearn.cross_validation import train_test_split\n",
    "features_train,features_test,labels_train,labels_test=train_test_split(features,labels,test_size=0.3,random_state=42)\n",
    "from sklearn.naive_bayes import GaussianNB\n",
    "from time import time\n",
    "t0 = time()\n",
    "\n",
    "clf = GaussianNB()\n",
    "clf.fit(features_train, labels_train)\n",
    "pred = clf.predict(features_test)\n",
    "accuracy = accuracy_score(pred,labels_test)\n",
    "print \"Accuracy when using Naive Bayes Classifier:\"+str(accuracy)\n",
    "print \"Precision: \" +str(precision_score(pred,labels_test))\n",
    "print \"Recall: \"+str(recall_score(pred,labels_test))\n",
    "print \"NB algorithm time:\", round(time()-t0, 3), \"s\"\n"
   ]
  },
  {
   "cell_type": "code",
   "execution_count": 413,
   "metadata": {
    "collapsed": false
   },
   "outputs": [
    {
     "name": "stdout",
     "output_type": "stream",
     "text": [
      "Accuracy when using Decision Tree Classifier: 0.636363636364\n",
      "DT algorithm time: 0.007 s\n",
      "Precision: 0.25\n",
      "Recall: 0.166666666667\n"
     ]
    }
   ],
   "source": [
    "##Decision Tree Classifier\n",
    "from sklearn.tree import DecisionTreeClassifier\n",
    "clf=DecisionTreeClassifier()\n",
    "t0 = time()\n",
    "\n",
    "clf=DecisionTreeClassifier()\n",
    "clf.fit(features_train,labels_train)\n",
    "pred=clf.predict(features_test)\n",
    "\n",
    "from sklearn.metrics import accuracy_score,precision_score,recall_score\n",
    "acc=accuracy_score(pred,labels_test)\n",
    "\n",
    "print \"Accuracy when using Decision Tree Classifier: \" + str(acc)\n",
    "print \"DT algorithm time:\", round(time()-t0, 3), \"s\"\n",
    "print \"Precision: \" +str(precision_score(pred,labels_test))\n",
    "print \"Recall: \"+str(recall_score(pred,labels_test))"
   ]
  },
  {
   "cell_type": "markdown",
   "metadata": {},
   "source": [
    "Now accuracy is not much therefore need of Feature selection to maximize the performance.As the number of features decrease to important features the \n",
    "* Dataset is reduced.Less data with more information.\n",
    "* Less features Predict the label more accurately.\n",
    "\n",
    "### Feature Selection\n",
    "feature importances :\n",
    "\n",
    "The feature importances. The higher, the more important the feature. The importance of a feature is computed as the (normalized) total reduction of the criterion brought by that feature. It is also known as the Gini importance.\n",
    "Now feature importance is calculated using decision tree\n"
   ]
  },
  {
   "cell_type": "code",
   "execution_count": 414,
   "metadata": {
    "collapsed": false
   },
   "outputs": [
    {
     "name": "stdout",
     "output_type": "stream",
     "text": [
      "[0.30664643327686802, 0.19287949921752737, 0.18550724637681168, 0.14814814814814811, 0.083333333333333315, 0.062652006313978229, 0.020833333333333329, 0.0, 0.0, 0.0, 0.0, 0.0, 0.0, 0.0]\n",
      "New Feature List: ['poi', 'from_messages', 'total_payments', 'salary', 'total_stock_value', 'exercised_stock_options']\n"
     ]
    }
   ],
   "source": [
    "dict={}\n",
    "key=0\n",
    "for i in clf.feature_importances_:\n",
    "    dict[features_list[key]]=i\n",
    "    key = key+1\n",
    "key_list=sorted([value for key,value in dict.items()],reverse=True)\n",
    "print key_list\n",
    "\n",
    "feature_list=['poi']\n",
    "for k in range(6):\n",
    "    for i in range(len(key_list)-1):\n",
    "        if(dict[features_list[i]]==key_list[k] and features_list[i]!='poi'and features_list[i]!='other' ):\n",
    "            feature_list.append(features_list[i])\n",
    "print \"New Feature List: \"+ str(feature_list)"
   ]
  },
  {
   "cell_type": "markdown",
   "metadata": {},
   "source": [
    "Now using above features with high gini importance is chosen for getting optimal accuracy."
   ]
  },
  {
   "cell_type": "code",
   "execution_count": 415,
   "metadata": {
    "collapsed": false
   },
   "outputs": [
    {
     "name": "stdout",
     "output_type": "stream",
     "text": [
      "Accuracy when using Naive Bayes Classifier:0.860465116279\n",
      "Precision: 0.2\n",
      "Recall: 0.333333333333\n",
      "NB algorithm time: 0.005 s\n"
     ]
    }
   ],
   "source": [
    "\n",
    "data = featureFormat(data_dict, feature_list)\n",
    "labels, features = targetFeatureSplit(data)\n",
    "\n",
    "from sklearn.cross_validation import train_test_split\n",
    "features_train,features_test,labels_train,labels_test=train_test_split(features,labels,test_size=0.3,random_state=42)\n",
    "from sklearn.naive_bayes import GaussianNB\n",
    "from time import time\n",
    "t0 = time()\n",
    "\n",
    "clf = GaussianNB()\n",
    "clf.fit(features_train, labels_train)\n",
    "pred = clf.predict(features_test)\n",
    "accuracy = accuracy_score(pred,labels_test)\n",
    "print \"Accuracy when using Naive Bayes Classifier:\"+str(accuracy)\n",
    "print \"Precision: \" +str(precision_score(pred,labels_test))\n",
    "print \"Recall: \"+str(recall_score(pred,labels_test))\n",
    "print \"NB algorithm time:\", round(time()-t0, 3), \"s\""
   ]
  },
  {
   "cell_type": "markdown",
   "metadata": {},
   "source": [
    "### Using whole dataset for training and Testing\n",
    "When there is no splitting of dataset into Training and Testing set i.e. same data is used for classification and prediction can be seen below:"
   ]
  },
  {
   "cell_type": "code",
   "execution_count": 416,
   "metadata": {
    "collapsed": false
   },
   "outputs": [
    {
     "name": "stdout",
     "output_type": "stream",
     "text": [
      "1.0\n"
     ]
    }
   ],
   "source": [
    "\n",
    "clf=DecisionTreeClassifier()\n",
    "clf.fit(features,labels)\n",
    "pred=clf.predict(features)\n",
    "\n",
    "\n",
    "from sklearn.metrics import accuracy_score\n",
    "acc=accuracy_score(pred,labels)\n",
    "print acc"
   ]
  },
  {
   "cell_type": "markdown",
   "metadata": {},
   "source": [
    "Accuracy Score is increased to 1 but there are two problems when there is no splitting of dataset into Training and Testing data:\n",
    "* Performance of the algorithm cannot be compared.\n",
    "* Overfitting of Data .\n",
    "\n",
    "### Using splitted dataset for Training and Testing\n",
    "Therefore splitting the dataset into Training and testing dataset as shown below:"
   ]
  },
  {
   "cell_type": "code",
   "execution_count": 417,
   "metadata": {
    "collapsed": false
   },
   "outputs": [
    {
     "name": "stdout",
     "output_type": "stream",
     "text": [
      "Accuracy when using Decision Tree Classifier: 0.744186046512\n",
      "DT algorithm time: 0.002 s\n",
      "Precision: 0.2\n",
      "Recall: 0.125\n"
     ]
    }
   ],
   "source": [
    "t0 = time()\n",
    "\n",
    "clf=DecisionTreeClassifier()\n",
    "clf.fit(features_train,labels_train)\n",
    "pred=clf.predict(features_test)\n",
    "\n",
    "from sklearn.metrics import accuracy_score,precision_score,recall_score\n",
    "acc=accuracy_score(pred,labels_test)\n",
    "\n",
    "print \"Accuracy when using Decision Tree Classifier: \" + str(acc)\n",
    "print \"DT algorithm time:\", round(time()-t0, 3), \"s\"\n",
    "print \"Precision: \" +str(precision_score(pred,labels_test))\n",
    "print \"Recall: \"+str(recall_score(pred,labels_test))"
   ]
  },
  {
   "cell_type": "markdown",
   "metadata": {},
   "source": [
    "Now checking the accuracy while introducing new features in the Features_list."
   ]
  },
  {
   "cell_type": "code",
   "execution_count": 418,
   "metadata": {
    "collapsed": false
   },
   "outputs": [
    {
     "name": "stdout",
     "output_type": "stream",
     "text": [
      "['poi', 'from_messages', 'total_payments', 'salary', 'total_stock_value', 'exercised_stock_options', 'fraction_to_poi_email', 'fraction_from_poi_email']\n"
     ]
    }
   ],
   "source": [
    "feature_list.append('fraction_to_poi_email')\n",
    "feature_list.append('fraction_from_poi_email')\n",
    "print feature_list"
   ]
  },
  {
   "cell_type": "code",
   "execution_count": 421,
   "metadata": {
    "collapsed": false
   },
   "outputs": [
    {
     "name": "stdout",
     "output_type": "stream",
     "text": [
      "Accuracy when using Decision Tree Classifier: 0.767441860465\n",
      "DT algorithm time: 0.001 s\n",
      "Precision: 0.4\n",
      "Recall: 0.222222222222\n"
     ]
    }
   ],
   "source": [
    "\n",
    "data = featureFormat(data_dict, feature_list)\n",
    "labels, features = targetFeatureSplit(data)\n",
    "\n",
    "from sklearn.cross_validation import train_test_split\n",
    "features_train,features_test,labels_train,labels_test=train_test_split(features,labels,test_size=0.3,random_state=42)\n",
    "t0 = time()\n",
    "\n",
    "clf=DecisionTreeClassifier()\n",
    "clf.fit(features_train,labels_train)\n",
    "pred=clf.predict(features_test)\n",
    "\n",
    "from sklearn.metrics import accuracy_score,precision_score,recall_score\n",
    "acc=accuracy_score(pred,labels_test)\n",
    "\n",
    "print \"Accuracy when using Decision Tree Classifier: \" + str(acc)\n",
    "print \"DT algorithm time:\", round(time()-t0, 3), \"s\"\n",
    "print \"Precision: \" +str(precision_score(pred,labels_test))\n",
    "print \"Recall: \"+str(recall_score(pred,labels_test))"
   ]
  },
  {
   "cell_type": "markdown",
   "metadata": {},
   "source": [
    "I see that the new features improved both precision and recall. Precision jumped from 0.20 to 0.40 and recall jumped from 0.125 to 0.222. So, this states that the new features improved performance and should probably be included in the final feature set.  When trying new subset of features by manually selecting different set of features as shown in below found the accuracy,precision and Recall increase significantly.\n",
    "### Manual Selection of features\n",
    "Now manually selecting features having new features into consideration which increase the accuracy from 76 % to 92% and precision and recall from 0.4 t0 0.5 and 0.22 to 1 respectively.\n"
   ]
  },
  {
   "cell_type": "code",
   "execution_count": 449,
   "metadata": {
    "collapsed": false
   },
   "outputs": [
    {
     "data": {
      "text/html": [
       "<table>\n",
       "<tr>\n",
       "<th>Features along with new features</th>\n",
       "<th>Precision</th>\n",
       "<th>Recall</th>\n",
       "<th>Accuracy</th>\n",
       "</tr>\n",
       "<tr>\n",
       "<td>stock features</td>\n",
       "<td>0.125</td>\n",
       "<td>.33</td>\n",
       "<td>0.76</td>\n",
       "\n",
       "</tr>\n",
       "<tr>\n",
       "<td>salary features</td>\n",
       "<td>0.25</td>\n",
       "<td>0.66</td>\n",
       "<td>0.78</td>\n",
       "</tr>\n",
       "<tr>\n",
       "<td>Poi related features</td>\n",
       "<td>.5</td>\n",
       "<td>1</td>\n",
       "<td>0.92</td>\n",
       "</tr>\n",
       "</table>"
      ],
      "text/plain": [
       "<IPython.core.display.HTML object>"
      ]
     },
     "metadata": {},
     "output_type": "display_data"
    }
   ],
   "source": [
    "\n",
    "%%html\n",
    "<table>\n",
    "<tr>\n",
    "<th>Features along with new features</th>\n",
    "<th>Precision</th>\n",
    "<th>Recall</th>\n",
    "<th>Accuracy</th>\n",
    "</tr>\n",
    "<tr>\n",
    "<td>stock features</td>\n",
    "<td>0.125</td>\n",
    "<td>.33</td>\n",
    "<td>0.76</td>\n",
    "\n",
    "</tr>\n",
    "<tr>\n",
    "<td>salary features</td>\n",
    "<td>0.25</td>\n",
    "<td>0.66</td>\n",
    "<td>0.78</td>\n",
    "</tr>\n",
    "<tr>\n",
    "<td>Poi related features</td>\n",
    "<td>.5</td>\n",
    "<td>1</td>\n",
    "<td>0.92</td>\n",
    "</tr>\n",
    "</table>"
   ]
  },
  {
   "cell_type": "code",
   "execution_count": 446,
   "metadata": {
    "collapsed": false
   },
   "outputs": [
    {
     "name": "stdout",
     "output_type": "stream",
     "text": [
      "Accuracy when using Decision Tree Classifier: 0.787878787879\n",
      "DT algorithm time: 0.003 s\n",
      "Precision: 0.5\n",
      "Recall: 0.285714285714\n",
      "Accuracy when using Naive Bayes Classifier:0.878787878788\n",
      "Precision: 0.25\n",
      "Recall: 0.5\n",
      "NB algorithm time: 0.012 s\n"
     ]
    }
   ],
   "source": [
    "#features_list = [\"poi\", \"fraction_from_poi_email\", \"fraction_to_poi_email\", 'shared_receipt_with_poi']\n",
    "# features_list = [\"poi\", \"fraction_from_poi_email\", \"fraction_to_poi_email\", 'exercised_stock_options','total_stock_value']\n",
    "features_list = [\"poi\", \"fraction_from_poi_email\", \"fraction_to_poi_email\", 'salary','bonus','long_term_incentive']\n",
    "data = featureFormat(data_dict, features_list)\n",
    "labels, features = targetFeatureSplit(data)\n",
    "### use KFold for split and validate algorithm\n",
    "from sklearn.cross_validation import KFold\n",
    "kf=KFold(len(labels),3)\n",
    "for train_indices, test_indices in kf:\n",
    "    #make training and testing sets\n",
    "    features_train= [features[ii] for ii in train_indices]\n",
    "    features_test= [features[ii] for ii in test_indices]\n",
    "    labels_train=[labels[ii] for ii in train_indices]\n",
    "    labels_test=[labels[ii] for ii in test_indices]\n",
    "\n",
    "from sklearn.cross_validation import train_test_split\n",
    "features_train,features_test,labels_train,labels_test=train_test_split(features,labels,test_size=0.3,random_state=42)\n",
    "t0 = time()\n",
    "\n",
    "clf=DecisionTreeClassifier()\n",
    "clf.fit(features_train,labels_train)\n",
    "pred=clf.predict(features_test)\n",
    "\n",
    "from sklearn.metrics import accuracy_score,precision_score,recall_score\n",
    "acc=accuracy_score(pred,labels_test)\n",
    "\n",
    "print \"Accuracy when using Decision Tree Classifier: \" + str(acc)\n",
    "print \"DT algorithm time:\", round(time()-t0, 3), \"s\"\n",
    "print \"Precision: \" +str(precision_score(pred,labels_test))\n",
    "print \"Recall: \"+str(recall_score(pred,labels_test))\n",
    "t0 = time()\n",
    "\n",
    "clf = GaussianNB()\n",
    "clf.fit(features_train, labels_train)\n",
    "pred = clf.predict(features_test)\n",
    "accuracy = accuracy_score(pred,labels_test)\n",
    "print \"Accuracy when using Naive Bayes Classifier:\"+str(accuracy)\n",
    "print \"Precision: \" +str(precision_score(pred,labels_test))\n",
    "print \"Recall: \"+str(recall_score(pred,labels_test))\n",
    "print \"NB algorithm time:\", round(time()-t0, 3), \"s\""
   ]
  },
  {
   "cell_type": "markdown",
   "metadata": {},
   "source": [
    "### Comparison of classifier\n",
    "                "
   ]
  },
  {
   "cell_type": "code",
   "execution_count": 428,
   "metadata": {
    "collapsed": false
   },
   "outputs": [
    {
     "data": {
      "text/html": [
       "<table>\n",
       "<tr>\n",
       "<th></th>\n",
       "<th>Naive Bayes </th>\n",
       "<th>Decision Tree Classifier</th>\n",
       "</tr>\n",
       "<tr>\n",
       "<td>Precision</td>\n",
       "<td>0</td>\n",
       "<td>0.5</td>\n",
       "</tr>\n",
       "<tr>\n",
       "<td>Recall</td>\n",
       "<td>0</td>\n",
       "<td>1</td>\n",
       "</tr>\n",
       "</tr>\n",
       "<tr>\n",
       "<td>Accuracy</td>\n",
       "<td>0.80</td>\n",
       "<td>0.92</td>\n",
       "</tr>\n",
       "</table>"
      ],
      "text/plain": [
       "<IPython.core.display.HTML object>"
      ]
     },
     "metadata": {},
     "output_type": "display_data"
    }
   ],
   "source": [
    "%%html\n",
    "<table>\n",
    "<tr>\n",
    "<th></th>\n",
    "<th>Naive Bayes </th>\n",
    "<th>Decision Tree Classifier</th>\n",
    "</tr>\n",
    "<tr>\n",
    "<td>Precision</td>\n",
    "<td>0</td>\n",
    "<td>0.5</td>\n",
    "</tr>\n",
    "<tr>\n",
    "<td>Recall</td>\n",
    "<td>0</td>\n",
    "<td>1</td>\n",
    "</tr>\n",
    "</tr>\n",
    "<tr>\n",
    "<td>Accuracy</td>\n",
    "<td>0.80</td>\n",
    "<td>0.92</td>\n",
    "</tr>\n",
    "</table>"
   ]
  },
  {
   "cell_type": "markdown",
   "metadata": {},
   "source": [
    "## Parameter Tuning \n",
    "Tuning is changing values of parameters present in the classifier to get optimal accuracy matrics\n",
    "and comparing them to get best classifier.\n",
    "In this dataset I cannot use accuracy for evaluating my algorithm because there a few POI’s in\n",
    "dataset and the best evaluator are precision and recall. There were only 18 examples of POIs in\n",
    "the dataset. There were 35 people who were POIs in “real life”, but for various reasons, half of\n",
    "those are not present in this dataset.Therefore kfold is used with the classifier.\n",
    "\n",
    "By manually setting the min_samples_split parameter in Decision Tree, Precision and Recall can be compared.\n",
    "Parameter min_samples_split are used to get best classifier."
   ]
  },
  {
   "cell_type": "code",
   "execution_count": 401,
   "metadata": {
    "collapsed": false
   },
   "outputs": [
    {
     "name": "stdout",
     "output_type": "stream",
     "text": [
      "Accuracy when using Decision Tree Classifier: 0.884615384615\n",
      "DT algorithm time: 0.001 s\n",
      "Precision: 0.5\n",
      "Recall: 0.666666666667\n",
      "Accuracy when using Decision Tree Classifier: 0.923076923077\n",
      "DT algorithm time: 0.002 s\n",
      "Precision: 0.5\n",
      "Recall: 1.0\n",
      "Accuracy when using Decision Tree Classifier: 0.884615384615\n",
      "DT algorithm time: 0.001 s\n",
      "Precision: 0.5\n",
      "Recall: 0.666666666667\n",
      "Accuracy when using Decision Tree Classifier: 0.884615384615\n",
      "DT algorithm time: 0.002 s\n",
      "Precision: 0.5\n",
      "Recall: 0.666666666667\n",
      "Accuracy when using Decision Tree Classifier: 0.846153846154\n",
      "DT algorithm time: 0.002 s\n",
      "Precision: 0.75\n",
      "Recall: 0.5\n",
      "Accuracy when using Decision Tree Classifier: 0.769230769231\n",
      "DT algorithm time: 0.001 s\n",
      "Precision: 0.75\n",
      "Recall: 0.375\n"
     ]
    }
   ],
   "source": [
    "def dt_min_samples_split(k):\n",
    "    t0 = time()\n",
    "\n",
    "    clf=DecisionTreeClassifier(min_samples_split=k)\n",
    "    clf.fit(features_train,labels_train)\n",
    "    pred=clf.predict(features_test)\n",
    "\n",
    "    from sklearn.metrics import accuracy_score,precision_score,recall_score\n",
    "    acc=accuracy_score(pred,labels_test)\n",
    "\n",
    "    print \"Accuracy when using Decision Tree Classifier: \" + str(acc)\n",
    "    print \"DT algorithm time:\", round(time()-t0, 3), \"s\"\n",
    "    print \"Precision: \" +str(precision_score(pred,labels_test))\n",
    "    print \"Recall: \"+str(recall_score(pred,labels_test))\n",
    "    \n",
    "dt_min_samples_split(2)\n",
    "dt_min_samples_split(3)\n",
    "dt_min_samples_split(5)\n",
    "dt_min_samples_split(10)\n",
    "dt_min_samples_split(15)\n",
    "dt_min_samples_split(20)"
   ]
  },
  {
   "cell_type": "markdown",
   "metadata": {},
   "source": [
    "## Validation Of Classifier\n",
    "The validation of the algorithm performance is conducted use the tester function\n",
    "provided (without changing). The function uses cross validation with 1000 folds.As the \n",
    "data related to POIs is very less i.e. 18 POIs from 146 executives.Therefore 3 fold cross\n",
    "validation is used above and tester uses upto thousand folds to validate the classifier.\n",
    "Precision: precision is defined as the number true positive divided by the number of\n",
    "person labels as positive. A higher precision value means a person flag out as a POI is\n",
    "more likely to be a true POI. Recall: recall is defined as the number of true positive\n",
    "divided by the total number of positive. A higher recall value mean if a person is a POI,\n",
    "the algorithm is more likely to flag this person out.\n",
    "\n",
    "First I used accuracy to evaluate my algorithm. It was a mistake because in this case we have a\n",
    "class imbalance problem : the number of POIs is small compared to the total number of\n",
    "examples in the dataset. So I had to use precision and recall for these activities instead.\n",
    "I was able to reach average value of precision = 0.6, recall = 0.771.\n",
    "\n",
    "As it can be clearly seen in above results if whole dataset is used for classification and\n",
    "prediction Then the result will be biased. \n",
    "The accuracy will be high but there is no sureity that the classifier can predict\n",
    "well for future inputs or not. To varify this targetdatasplit is done as for training the\n",
    "classifier on training set and predicting on Testing dataset.The accuracy is also measured \n",
    "on Testing dataset to validate the classifier.\n"
   ]
  },
  {
   "cell_type": "code",
   "execution_count": 429,
   "metadata": {
    "collapsed": false
   },
   "outputs": [
    {
     "data": {
      "text/html": [
       "<table>\n",
       "<tr>\n",
       "<th></th>\n",
       "<th>Precision</th>\n",
       "<th>Recall</th>\n",
       "</tr>\n",
       "<tr>\n",
       "<td>min_sample_split=2</td>\n",
       "<td>0.5</td>\n",
       "<td>.66</td>\n",
       "</tr>\n",
       "<tr>\n",
       "<td>min_sample_split=3</td>\n",
       "<td>0.5</td>\n",
       "<td>1</td>\n",
       "</tr>\n",
       "<tr>\n",
       "<td>min_sample_split=5</td>\n",
       "<td>.5</td>\n",
       "<td>.66</td>\n",
       "</tr>\n",
       "<tr>\n",
       "<td>min_sample_split=10</td>\n",
       "<td>0.5</td>\n",
       "<td>.6</td>\n",
       "</tr>\n",
       "<tr>\n",
       "<td>min_sample_split=15</td>\n",
       "<td>0.75</td>\n",
       "<td>.5</td>\n",
       "</tr>\n",
       "<tr>\n",
       "<td>min_sample_split=20</td>\n",
       "<td>0.75</td>\n",
       "<td>.35</td>\n",
       "</tr>\n",
       "</table>"
      ],
      "text/plain": [
       "<IPython.core.display.HTML object>"
      ]
     },
     "metadata": {},
     "output_type": "display_data"
    }
   ],
   "source": [
    "%%html\n",
    "<table>\n",
    "<tr>\n",
    "<th></th>\n",
    "<th>Precision</th>\n",
    "<th>Recall</th>\n",
    "</tr>\n",
    "<tr>\n",
    "<td>min_sample_split=2</td>\n",
    "<td>0.5</td>\n",
    "<td>.66</td>\n",
    "</tr>\n",
    "<tr>\n",
    "<td>min_sample_split=3</td>\n",
    "<td>0.5</td>\n",
    "<td>1</td>\n",
    "</tr>\n",
    "<tr>\n",
    "<td>min_sample_split=5</td>\n",
    "<td>.5</td>\n",
    "<td>.66</td>\n",
    "</tr>\n",
    "<tr>\n",
    "<td>min_sample_split=10</td>\n",
    "<td>0.5</td>\n",
    "<td>.6</td>\n",
    "</tr>\n",
    "<tr>\n",
    "<td>min_sample_split=15</td>\n",
    "<td>0.75</td>\n",
    "<td>.5</td>\n",
    "</tr>\n",
    "<tr>\n",
    "<td>min_sample_split=20</td>\n",
    "<td>0.75</td>\n",
    "<td>.35</td>\n",
    "</tr>\n",
    "</table>"
   ]
  },
  {
   "cell_type": "markdown",
   "metadata": {},
   "source": [
    "\n",
    "It can be seen that with less tuning the value of precision and recall is less and as the parameter is tuned the accuracy metrics increases but if the parameter is overtuned the precision & recall decreases. Therefore value of parameter has to be decided carefully.\n",
    "There is usually a trade off between precision and recall. An algorithm strong at one metric may be weak at the other metric. So when it comes to decide which algorithm is better, it come to how do we define risk. Is it more risky to flag out as a POI who is actually not or is it more risky to miss a true POI? That is in the eyes of the beholder."
   ]
  },
  {
   "cell_type": "markdown",
   "metadata": {},
   "source": [
    "# Conclusion\n",
    "Firstly I tried Naive Bayes accuracy was lower than with Decision Tree Algorithm (0.80 and 0.92\n",
    "respectively). I made a conclusion that that the feature set I used does not suit the distributional\n",
    "and interactive assumptions of Naive Bayes well.\n",
    "I selected Decision Tree Algorithm for the POI identifier. It gave me accuracy before tuning\n",
    "parameters = 0.88. No feature scaling was used, as it’s not necessary when using a decision\n",
    "tree.\n",
    "After selecting features and algorithm I manually tuned parameter min_samples_split.\n",
    "After using min_samples_split as 3 the Decision Tree gave maximum accuracy.\n"
   ]
  }
 ],
 "metadata": {
  "anaconda-cloud": {},
  "kernelspec": {
   "display_name": "Python 2",
   "language": "python",
   "name": "python2"
  },
  "language_info": {
   "codemirror_mode": {
    "name": "ipython",
    "version": 2
   },
   "file_extension": ".py",
   "mimetype": "text/x-python",
   "name": "python",
   "nbconvert_exporter": "python",
   "pygments_lexer": "ipython2",
   "version": "2.7.12"
  }
 },
 "nbformat": 4,
 "nbformat_minor": 2
}
